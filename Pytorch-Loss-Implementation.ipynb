{
 "cells": [
  {
   "attachments": {},
   "cell_type": "markdown",
   "id": "cd31ab37",
   "metadata": {},
   "source": [
    "# CROSSENTROPY Loss\n",
    "<img src = \"./figs/pytorch_ce_loss.png\">\n",
    "\n",
    "ref : https://pytorch.org/docs/stable/generated/torch.nn.CrossEntropyLoss.html"
   ]
  },
  {
   "cell_type": "code",
   "execution_count": 1,
   "id": "f9e750b2",
   "metadata": {},
   "outputs": [
    {
     "name": "stdout",
     "output_type": "stream",
     "text": [
      "input x (logit)\n",
      "tensor([[0.4290, 0.7201, 0.9481, 0.4797],\n",
      "        [0.5414, 0.9906, 0.4086, 0.2183],\n",
      "        [0.1834, 0.2852, 0.7813, 0.1048],\n",
      "        [0.6550, 0.8375, 0.1823, 0.5239],\n",
      "        [0.2432, 0.9644, 0.5034, 0.0320],\n",
      "        [0.8316, 0.3807, 0.3539, 0.2114],\n",
      "        [0.9839, 0.6632, 0.7001, 0.0155],\n",
      "        [0.3840, 0.7968, 0.4917, 0.4324],\n",
      "        [0.5174, 0.6913, 0.1628, 0.5692]])\n",
      "\n",
      "target y\n",
      "tensor([1, 0, 1, 2, 3, 1, 0, 1, 1])\n"
     ]
    }
   ],
   "source": [
    "import torch\n",
    "torch.manual_seed(2023)\n",
    "\n",
    "C = 4 # Assumed 4 class classification\n",
    "batch = 9 # with 9 data\n",
    "\n",
    "input_x = torch.rand(batch*C) # Unnormalized Logits, not \" Probability \" !\n",
    "input_x = input_x.view(batch, C)\n",
    "target_y = torch.randint(low=0,high=C,size=(batch,), dtype=torch.long) # Target ( dtype=torch.long when used for CE loss )\n",
    "\n",
    "print(f\"input x (logit)\\n{input_x}\")\n",
    "print(f\"\\ntarget y\\n{target_y}\")"
   ]
  },
  {
   "cell_type": "code",
   "execution_count": 2,
   "id": "79a8ff2b",
   "metadata": {},
   "outputs": [
    {
     "name": "stdout",
     "output_type": "stream",
     "text": [
      "input x (prob)\n",
      "tensor([[0.1972, 0.2639, 0.3315, 0.2075],\n",
      "        [0.2400, 0.3761, 0.2102, 0.1737],\n",
      "        [0.2062, 0.2283, 0.3749, 0.1906],\n",
      "        [0.2702, 0.3243, 0.1684, 0.2370],\n",
      "        [0.1936, 0.3983, 0.2512, 0.1568],\n",
      "        [0.3578, 0.2279, 0.2219, 0.1924],\n",
      "        [0.3499, 0.2539, 0.2634, 0.1328],\n",
      "        [0.2139, 0.3233, 0.2383, 0.2245],\n",
      "        [0.2535, 0.3017, 0.1778, 0.2670]])\n"
     ]
    }
   ],
   "source": [
    "# Convert Unnormalized logit \"input_x\" to Probability\n",
    "input_x_prob = torch.softmax(input_x, axis=1)\n",
    "print(f\"input x (prob)\\n{input_x_prob}\")"
   ]
  },
  {
   "attachments": {},
   "cell_type": "markdown",
   "id": "98e163a2",
   "metadata": {},
   "source": [
    "### Manual CE Loss ( for-loop )"
   ]
  },
  {
   "cell_type": "code",
   "execution_count": 3,
   "id": "8f634fdb",
   "metadata": {},
   "outputs": [
    {
     "name": "stdout",
     "output_type": "stream",
     "text": [
      "Total Loss : 1.4141454696655273\n",
      "Simplified : 1.4141\n"
     ]
    }
   ],
   "source": [
    "loss = 0\n",
    "for idx in range(len(input_x_prob)):\n",
    "    true_class = target_y[idx]\n",
    "    loss += -torch.log(input_x_prob[idx][true_class]+1e-12) \n",
    "\n",
    "print(f\"Total Loss : {loss / len(input_x)}\" ) # Assumed CELoss(reduction='mean')\n",
    "print(f\"Simplified : {loss / len(input_x):.4f}\" )"
   ]
  },
  {
   "attachments": {},
   "cell_type": "markdown",
   "id": "8350c985",
   "metadata": {},
   "source": [
    "### Compare with torch CE Loss"
   ]
  },
  {
   "cell_type": "code",
   "execution_count": 4,
   "id": "ad34549c",
   "metadata": {},
   "outputs": [
    {
     "name": "stdout",
     "output_type": "stream",
     "text": [
      "Pytroch Implemented CE :1.414145588874817\n",
      "Simplified :1.4141\n"
     ]
    }
   ],
   "source": [
    "torch_ce = torch.nn.CrossEntropyLoss()\n",
    "print(f'Pytroch Implemented CE :{torch_ce(input_x, target_y).item()}')\n",
    "print(f'Simplified :{torch_ce(input_x, target_y).item():.4f}')"
   ]
  },
  {
   "attachments": {},
   "cell_type": "markdown",
   "id": "1faa72e3",
   "metadata": {},
   "source": [
    "# BCE Loss\n",
    "<img src = \"./figs/pytorch_bce_loss.png\">\n",
    "\n",
    "ref : https://pytorch.org/docs/stable/generated/torch.nn.BCELoss.html"
   ]
  },
  {
   "cell_type": "code",
   "execution_count": 5,
   "id": "6710bfcd",
   "metadata": {},
   "outputs": [
    {
     "name": "stdout",
     "output_type": "stream",
     "text": [
      "input x\n",
      "tensor([0.4290, 0.7201, 0.9481, 0.4797, 0.5414, 0.9906])\n",
      "\n",
      "target y\n",
      "tensor([1., 0., 0., 0., 1., 0.])\n"
     ]
    }
   ],
   "source": [
    "import torch\n",
    "torch.manual_seed(2023)\n",
    "\n",
    "batch = 6\n",
    "input_x = torch.rand(batch) # Input \"Probabilities\"\n",
    "target_y = torch.randint(low=0,high=2,size=(batch,), dtype=torch.float) # Target ( dtype=torch.float when used for CE loss )\n",
    "\n",
    "print(f\"input x\\n{input_x}\")\n",
    "print(f\"\\ntarget y\\n{target_y}\")"
   ]
  },
  {
   "attachments": {},
   "cell_type": "markdown",
   "id": "dddba7af",
   "metadata": {},
   "source": [
    "### Manual BCE Loss ( for-loop )"
   ]
  },
  {
   "cell_type": "code",
   "execution_count": 6,
   "id": "46a0b5d5",
   "metadata": {},
   "outputs": [
    {
     "name": "stdout",
     "output_type": "stream",
     "text": [
      "Total Loss : 1.8351644277572632\n",
      "Simplified : 1.8352\n"
     ]
    }
   ],
   "source": [
    "loss = 0\n",
    "for idx in range(len(input_x)):\n",
    "    loss += -target_y[idx] * torch.log(input_x[idx]+1e-12) # y=1 cases\n",
    "    loss += -(1-target_y[idx]) * torch.log(1-input_x[idx]+1e-12) # y=0 cases\n",
    "\n",
    "print(f\"Total Loss : {loss / len(input_x)}\" ) # Assumed BCELoss(reduction='mean')\n",
    "print(f\"Simplified : {loss / len(input_x):.4f}\" )"
   ]
  },
  {
   "attachments": {},
   "cell_type": "markdown",
   "id": "ff21d373",
   "metadata": {},
   "source": [
    "### Manual BCE Loss ( One-line )"
   ]
  },
  {
   "cell_type": "code",
   "execution_count": 7,
   "id": "02f96395",
   "metadata": {},
   "outputs": [
    {
     "name": "stdout",
     "output_type": "stream",
     "text": [
      "Loss for the 'y = 1' cases : tensor([0.8463, 0.0000, 0.0000, 0.0000, 0.6136, 0.0000])\n",
      "Loss for the 'y = 0' cases : tensor([0.0000, 1.2732, 2.9593, 0.6533, 0.0000, 4.6653])\n",
      "Total Loss : 1.8351644277572632\n",
      "Simplified : 1.8352\n"
     ]
    }
   ],
   "source": [
    "y_equals_1 = -target_y * torch.log(input_x + 1e-12)\n",
    "y_equals_0 = -(1-target_y) * torch.log(1-input_x + 1e-12)\n",
    "\n",
    "print(f\"Loss for the 'y = 1' cases : {y_equals_1}\")\n",
    "print(f\"Loss for the 'y = 0' cases : {y_equals_0}\")\n",
    "print(f\"Total Loss : {torch.mean(y_equals_1 + y_equals_0)}\") # Used torch.mean assuming BCELoss(reduction='mean')\n",
    "print(f\"Simplified : {torch.mean(y_equals_1 + y_equals_0):.4f}\")"
   ]
  },
  {
   "attachments": {},
   "cell_type": "markdown",
   "id": "61f52a82",
   "metadata": {},
   "source": [
    "### Compare with torch BCE Loss"
   ]
  },
  {
   "cell_type": "code",
   "execution_count": 8,
   "id": "60dc0251",
   "metadata": {},
   "outputs": [
    {
     "name": "stdout",
     "output_type": "stream",
     "text": [
      "Pytroch Implemented BCE :1.8351644277572632\n",
      "Simplified :1.8352\n"
     ]
    }
   ],
   "source": [
    "torch_bce = torch.nn.BCELoss()\n",
    "print(f'Pytroch Implemented BCE :{torch_bce(input_x, target_y).item()}')\n",
    "print(f'Simplified :{torch_bce(input_x, target_y).item():.4f}')"
   ]
  },
  {
   "attachments": {},
   "cell_type": "markdown",
   "id": "643b26e8",
   "metadata": {},
   "source": [
    "# Label Smoothing\n",
    "<img src = \"./figs/label_smoothing.png\">\n",
    "\n",
    "ref : https://towardsdatascience.com/label-smoothing-make-your-model-less-over-confident-b12ea6f81a9a"
   ]
  },
  {
   "cell_type": "code",
   "execution_count": 9,
   "id": "d31ba954",
   "metadata": {},
   "outputs": [
    {
     "name": "stdout",
     "output_type": "stream",
     "text": [
      "Torch BCELoss 1.8352\n",
      "Implemented BCELoss with Label smoothing (alpha = 0.0) : 1.8352\n",
      "Implemented BCELoss with Label smoothing (alpha = 0.1) : 1.7640\n",
      "Implemented BCELoss with Label smoothing (alpha = 0.2) : 1.6927\n",
      "Implemented BCELoss with Label smoothing (alpha = 0.3) : 1.6215\n",
      "Implemented BCELoss with Label smoothing (alpha = 0.4) : 1.5503\n",
      "Implemented BCELoss with Label smoothing (alpha = 0.5) : 1.4791\n",
      "Implemented BCELoss with Label smoothing (alpha = 0.6) : 1.4079\n",
      "Implemented BCELoss with Label smoothing (alpha = 0.7) : 1.3367\n",
      "Implemented BCELoss with Label smoothing (alpha = 0.8) : 1.2655\n",
      "Implemented BCELoss with Label smoothing (alpha = 0.9) : 1.1943\n",
      "Implemented BCELoss with Label smoothing (alpha = 1.0) : 1.1231\n"
     ]
    }
   ],
   "source": [
    "import torch\n",
    "import torch.nn as nn\n",
    "\n",
    "class BCELossWithLabelSmoothing(nn.Module):\n",
    "    def __init__(self, alpha, reduction='mean'):\n",
    "        super(BCELossWithLabelSmoothing, self).__init__()\n",
    "        self.alpha = alpha\n",
    "        self.reduction = reduction\n",
    "\n",
    "    def forward(self, output, target):\n",
    "        N = target.max().item()+1\n",
    "        target = target * (1-self.alpha) + self.alpha / N\n",
    "\n",
    "        if(1): # one-line\n",
    "            correct = -target * torch.log(output + 1e-12)\n",
    "            wrong = -(1-target)*torch.log(1-output + 1e-12)\n",
    "            loss = (correct + wrong).sum() \n",
    "            if(self.reduction == 'mean'):\n",
    "                loss /= len(output)\n",
    "\n",
    "        else: # for-loop\n",
    "            loss = 0\n",
    "            for idx, pred in enumerate(output):\n",
    "                correct = -(target[idx]) * torch.log(pred+1e-12)\n",
    "                wrong = -(1-target[idx]) * torch.log(1-pred+1e-12)\n",
    "                loss += correct\n",
    "                loss += wrong\n",
    "            if(self.reduction == 'mean'):\n",
    "                loss /= len(output)\n",
    "\n",
    "        return loss\n",
    "\n",
    "torch_bce = torch.nn.BCELoss()\n",
    "print(f'Torch BCELoss {torch_bce(input_x, target_y):.4f}')\n",
    "\n",
    "alphas = torch.arange(11)/10\n",
    "for alpha in alphas:\n",
    "    bce_LS = BCELossWithLabelSmoothing(alpha)\n",
    "    print(f'Implemented BCELoss with Label smoothing (alpha = {alpha:.1f}) : {bce_LS(input_x, target_y):.4f}')"
   ]
  },
  {
   "attachments": {},
   "cell_type": "markdown",
   "id": "fcaf8228",
   "metadata": {},
   "source": [
    "Check how the `Label smoothing` changes the target "
   ]
  },
  {
   "cell_type": "code",
   "execution_count": 10,
   "id": "583bc53e",
   "metadata": {},
   "outputs": [
    {
     "name": "stdout",
     "output_type": "stream",
     "text": [
      "alpha : 0.0 | target : tensor([1., 0., 0., 0., 1., 0.])\n",
      "alpha : 0.1 | target : tensor([0.9500, 0.0500, 0.0500, 0.0500, 0.9500, 0.0500])\n",
      "alpha : 0.2 | target : tensor([0.9000, 0.1000, 0.1000, 0.1000, 0.9000, 0.1000])\n",
      "alpha : 0.3 | target : tensor([0.8500, 0.1500, 0.1500, 0.1500, 0.8500, 0.1500])\n",
      "alpha : 0.4 | target : tensor([0.8000, 0.2000, 0.2000, 0.2000, 0.8000, 0.2000])\n",
      "alpha : 0.5 | target : tensor([0.7500, 0.2500, 0.2500, 0.2500, 0.7500, 0.2500])\n",
      "alpha : 0.6 | target : tensor([0.7000, 0.3000, 0.3000, 0.3000, 0.7000, 0.3000])\n",
      "alpha : 0.7 | target : tensor([0.6500, 0.3500, 0.3500, 0.3500, 0.6500, 0.3500])\n",
      "alpha : 0.8 | target : tensor([0.6000, 0.4000, 0.4000, 0.4000, 0.6000, 0.4000])\n",
      "alpha : 0.9 | target : tensor([0.5500, 0.4500, 0.4500, 0.4500, 0.5500, 0.4500])\n",
      "alpha : 1.0 | target : tensor([0.5000, 0.5000, 0.5000, 0.5000, 0.5000, 0.5000])\n"
     ]
    }
   ],
   "source": [
    "for alpha in alphas:\n",
    "    N = target_y.max().item()+1\n",
    "    target_smoo = target_y * (1-alpha) + alpha / N\n",
    "    print(f\"alpha : {alpha.item():.1f} | target : {target_smoo}\")"
   ]
  },
  {
   "cell_type": "code",
   "execution_count": null,
   "id": "f4035b1d",
   "metadata": {},
   "outputs": [],
   "source": []
  }
 ],
 "metadata": {
  "kernelspec": {
   "display_name": "3dcephalo",
   "language": "python",
   "name": "python3"
  },
  "language_info": {
   "codemirror_mode": {
    "name": "ipython",
    "version": 3
   },
   "file_extension": ".py",
   "mimetype": "text/x-python",
   "name": "python",
   "nbconvert_exporter": "python",
   "pygments_lexer": "ipython3",
   "version": "3.9.16"
  }
 },
 "nbformat": 4,
 "nbformat_minor": 5
}
